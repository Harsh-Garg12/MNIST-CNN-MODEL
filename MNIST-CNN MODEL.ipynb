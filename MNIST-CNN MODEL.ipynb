{
 "cells": [
  {
   "cell_type": "code",
   "execution_count": 63,
   "id": "a320ee1c",
   "metadata": {},
   "outputs": [],
   "source": [
    "import numpy as np\n",
    "from numpy import argmax\n",
    "import pandas as pd\n",
    "import matplotlib.pyplot as plt\n",
    "import tensorflow as tf\n",
    "from tensorflow import keras\n",
    "from keras.layers import *\n",
    "from keras.datasets import mnist\n",
    "import cv2\n",
    "from PIL import Image\n",
    "from keras.applications.vgg16 import VGG16\n",
    "from keras.models import Sequential, model_from_json\n",
    "from keras.callbacks import EarlyStopping\n",
    "from tensorflow.keras.utils import img_to_array, load_img\n",
    "import random\n",
    "from tensorflow.keras.utils import plot_model\n",
    "import netron"
   ]
  },
  {
   "cell_type": "code",
   "execution_count": 3,
   "id": "489c2da5",
   "metadata": {},
   "outputs": [],
   "source": [
    "(X_train, y_train), (X_test, y_test) = keras.datasets.mnist.load_data()"
   ]
  },
  {
   "cell_type": "code",
   "execution_count": 4,
   "id": "8f46361a",
   "metadata": {
    "scrolled": true
   },
   "outputs": [
    {
     "data": {
      "text/plain": [
       "(60000, 28, 28)"
      ]
     },
     "execution_count": 4,
     "metadata": {},
     "output_type": "execute_result"
    }
   ],
   "source": [
    "X_train.shape"
   ]
  },
  {
   "cell_type": "code",
   "execution_count": 5,
   "id": "4eb257f6",
   "metadata": {},
   "outputs": [
    {
     "data": {
      "text/plain": [
       "(28, 28)"
      ]
     },
     "execution_count": 5,
     "metadata": {},
     "output_type": "execute_result"
    }
   ],
   "source": [
    "X_train[0].shape"
   ]
  },
  {
   "cell_type": "code",
   "execution_count": 6,
   "id": "46afdcec",
   "metadata": {},
   "outputs": [
    {
     "data": {
      "text/plain": [
       "array([0, 1, 2, 3, 4, 5, 6, 7, 8, 9], dtype=uint8)"
      ]
     },
     "execution_count": 6,
     "metadata": {},
     "output_type": "execute_result"
    }
   ],
   "source": [
    "np.unique(y_train)"
   ]
  },
  {
   "cell_type": "code",
   "execution_count": 7,
   "id": "928f4125",
   "metadata": {},
   "outputs": [],
   "source": [
    "y_train = tf.one_hot(y_train, 10)"
   ]
  },
  {
   "cell_type": "code",
   "execution_count": 8,
   "id": "f9b68e81",
   "metadata": {},
   "outputs": [],
   "source": [
    "y_test = tf.one_hot(y_test, 10)"
   ]
  },
  {
   "cell_type": "code",
   "execution_count": 8,
   "id": "c9353c50",
   "metadata": {
    "scrolled": false
   },
   "outputs": [
    {
     "data": {
      "image/png": "[encoded data removed]",
      "text/plain": [
       "<Figure size 432x432 with 9 Axes>"
      ]
     },
     "metadata": {
      "needs_background": "light"
     },
     "output_type": "display_data"
    }
   ],
   "source": [
    "cnt = 0\n",
    "fig, ax = plt.subplots(3, 3, figsize=(6,6))\n",
    "for i in range(3):\n",
    "    for j in range(3):\n",
    "        img = X_train[cnt]\n",
    "        img = cv2.cvtColor(img, cv2.COLOR_BGR2RGB)\n",
    "        ax[i][j].imshow(img)\n",
    "        ax[i][j].axis('off')\n",
    "        cnt += 1"
   ]
  },
  {
   "cell_type": "code",
   "execution_count": 9,
   "id": "862589a9",
   "metadata": {},
   "outputs": [],
   "source": [
    "model  = Sequential()\n",
    "model.add(Conv2D(64, kernel_size=(3,3), activation='relu', padding='same', input_shape=(28, 28, 1)))\n",
    "model.add(BatchNormalization())\n",
    "model.add(MaxPooling2D(strides=2, pool_size=(2,2)))\n",
    "model.add(Dropout(0.25))\n",
    "\n",
    "model.add(Conv2D(32, kernel_size=(3,3), activation='relu', padding='same'))\n",
    "model.add(BatchNormalization())\n",
    "model.add(MaxPooling2D(strides=2, pool_size=(2,2)))\n",
    "model.add(Dropout(0.25))\n",
    "\n",
    "model.add(Conv2D(16, kernel_size=(3,3), activation='relu', padding='valid'))\n",
    "model.add(BatchNormalization())\n",
    "model.add(MaxPooling2D(strides=2, pool_size=(2,2)))\n",
    "model.add(Dropout(0.25))\n",
    "\n",
    "model.add(Flatten())\n",
    "\n",
    "model.add(Dense(64, activation='relu'))\n",
    "model.add(BatchNormalization())\n",
    "model.add(Dense(32, activation='relu'))\n",
    "model.add(BatchNormalization())\n",
    "model.add(Dense(10, activation='softmax'))"
   ]
  },
  {
   "cell_type": "code",
   "execution_count": 10,
   "id": "afc9dd03",
   "metadata": {},
   "outputs": [
    {
     "name": "stdout",
     "output_type": "stream",
     "text": [
      "Model: \"sequential\"\n",
      "_________________________________________________________________\n",
      " Layer (type)                Output Shape              Param #   \n",
      "=================================================================\n",
      " conv2d (Conv2D)             (None, 28, 28, 64)        640       \n",
      "                                                                 \n",
      " batch_normalization (BatchN  (None, 28, 28, 64)       256       \n",
      " ormalization)                                                   \n",
      "                                                                 \n",
      " max_pooling2d (MaxPooling2D  (None, 14, 14, 64)       0         \n",
      " )                                                               \n",
      "                                                                 \n",
      " dropout (Dropout)           (None, 14, 14, 64)        0         \n",
      "                                                                 \n",
      " conv2d_1 (Conv2D)           (None, 14, 14, 32)        18464     \n",
      "                                                                 \n",
      " batch_normalization_1 (Batc  (None, 14, 14, 32)       128       \n",
      " hNormalization)                                                 \n",
      "                                                                 \n",
      " max_pooling2d_1 (MaxPooling  (None, 7, 7, 32)         0         \n",
      " 2D)                                                             \n",
      "                                                                 \n",
      " dropout_1 (Dropout)         (None, 7, 7, 32)          0         \n",
      "                                                                 \n",
      " conv2d_2 (Conv2D)           (None, 5, 5, 16)          4624      \n",
      "                                                                 \n",
      " batch_normalization_2 (Batc  (None, 5, 5, 16)         64        \n",
      " hNormalization)                                                 \n",
      "                                                                 \n",
      " max_pooling2d_2 (MaxPooling  (None, 2, 2, 16)         0         \n",
      " 2D)                                                             \n",
      "                                                                 \n",
      " dropout_2 (Dropout)         (None, 2, 2, 16)          0         \n",
      "                                                                 \n",
      " flatten (Flatten)           (None, 64)                0         \n",
      "                                                                 \n",
      " dense (Dense)               (None, 64)                4160      \n",
      "                                                                 \n",
      " batch_normalization_3 (Batc  (None, 64)               256       \n",
      " hNormalization)                                                 \n",
      "                                                                 \n",
      " dense_1 (Dense)             (None, 32)                2080      \n",
      "                                                                 \n",
      " batch_normalization_4 (Batc  (None, 32)               128       \n",
      " hNormalization)                                                 \n",
      "                                                                 \n",
      " dense_2 (Dense)             (None, 10)                330       \n",
      "                                                                 \n",
      "=================================================================\n",
      "Total params: 31,130\n",
      "Trainable params: 30,714\n",
      "Non-trainable params: 416\n",
      "_________________________________________________________________\n"
     ]
    }
   ],
   "source": [
    "model.summary()"
   ]
  },
  {
   "cell_type": "code",
   "execution_count": 11,
   "id": "b4428b4e",
   "metadata": {},
   "outputs": [],
   "source": [
    "es = EarlyStopping(monitor=\"val_loss\",\n",
    "                    min_delta=0,\n",
    "                    patience=10,\n",
    "                    verbose=1,\n",
    "                    mode=\"auto\",\n",
    "                    restore_best_weights=True)"
   ]
  },
  {
   "cell_type": "code",
   "execution_count": 12,
   "id": "6fc861e4",
   "metadata": {},
   "outputs": [],
   "source": [
    "model.compile(optimizer=keras.optimizers.Adam(), loss='categorical_crossentropy',  metrics=['accuracy'])"
   ]
  },
  {
   "cell_type": "code",
   "execution_count": 13,
   "id": "ceba98ee",
   "metadata": {},
   "outputs": [
    {
     "name": "stdout",
     "output_type": "stream",
     "text": [
      "Epoch 1/100\n",
      "1875/1875 [==============================] - 82s 31ms/step - loss: 0.4751 - accuracy: 0.8511 - val_loss: 0.0696 - val_accuracy: 0.9780\n",
      "Epoch 2/100\n",
      "1875/1875 [==============================] - 54s 29ms/step - loss: 0.1423 - accuracy: 0.9564 - val_loss: 0.0456 - val_accuracy: 0.9841\n",
      "Epoch 3/100\n",
      "1875/1875 [==============================] - 37s 20ms/step - loss: 0.1121 - accuracy: 0.9652 - val_loss: 0.0464 - val_accuracy: 0.9852\n",
      "Epoch 4/100\n",
      "1875/1875 [==============================] - 28s 15ms/step - loss: 0.0942 - accuracy: 0.9712 - val_loss: 0.0377 - val_accuracy: 0.9873\n",
      "Epoch 5/100\n",
      "1875/1875 [==============================] - 28s 15ms/step - loss: 0.0840 - accuracy: 0.9745 - val_loss: 0.0371 - val_accuracy: 0.9883\n",
      "Epoch 6/100\n",
      "1875/1875 [==============================] - 28s 15ms/step - loss: 0.0758 - accuracy: 0.9764 - val_loss: 0.0371 - val_accuracy: 0.9879\n",
      "Epoch 7/100\n",
      "1875/1875 [==============================] - 28s 15ms/step - loss: 0.0698 - accuracy: 0.9785 - val_loss: 0.0335 - val_accuracy: 0.9894\n",
      "Epoch 8/100\n",
      "1875/1875 [==============================] - 29s 15ms/step - loss: 0.0689 - accuracy: 0.9788 - val_loss: 0.0323 - val_accuracy: 0.9898\n",
      "Epoch 9/100\n",
      "1875/1875 [==============================] - 28s 15ms/step - loss: 0.0649 - accuracy: 0.9801 - val_loss: 0.0335 - val_accuracy: 0.9895\n",
      "Epoch 10/100\n",
      "1875/1875 [==============================] - 28s 15ms/step - loss: 0.0627 - accuracy: 0.9803 - val_loss: 0.0286 - val_accuracy: 0.9906\n",
      "Epoch 11/100\n",
      "1875/1875 [==============================] - 28s 15ms/step - loss: 0.0587 - accuracy: 0.9819 - val_loss: 0.0317 - val_accuracy: 0.9901\n",
      "Epoch 12/100\n",
      "1875/1875 [==============================] - 28s 15ms/step - loss: 0.0585 - accuracy: 0.9818 - val_loss: 0.0279 - val_accuracy: 0.9904\n",
      "Epoch 13/100\n",
      "1875/1875 [==============================] - 28s 15ms/step - loss: 0.0571 - accuracy: 0.9829 - val_loss: 0.0284 - val_accuracy: 0.9906\n",
      "Epoch 14/100\n",
      "1875/1875 [==============================] - 28s 15ms/step - loss: 0.0529 - accuracy: 0.9836 - val_loss: 0.0237 - val_accuracy: 0.9919\n",
      "Epoch 15/100\n",
      "1875/1875 [==============================] - 28s 15ms/step - loss: 0.0519 - accuracy: 0.9840 - val_loss: 0.0303 - val_accuracy: 0.9911\n",
      "Epoch 16/100\n",
      "1875/1875 [==============================] - 28s 15ms/step - loss: 0.0513 - accuracy: 0.9838 - val_loss: 0.0247 - val_accuracy: 0.9921\n",
      "Epoch 17/100\n",
      "1875/1875 [==============================] - 28s 15ms/step - loss: 0.0491 - accuracy: 0.9851 - val_loss: 0.0250 - val_accuracy: 0.9920\n",
      "Epoch 18/100\n",
      "1875/1875 [==============================] - 28s 15ms/step - loss: 0.0508 - accuracy: 0.9842 - val_loss: 0.0242 - val_accuracy: 0.9924\n",
      "Epoch 19/100\n",
      "1875/1875 [==============================] - 28s 15ms/step - loss: 0.0469 - accuracy: 0.9854 - val_loss: 0.0246 - val_accuracy: 0.9920\n",
      "Epoch 20/100\n",
      "1875/1875 [==============================] - 28s 15ms/step - loss: 0.0468 - accuracy: 0.9847 - val_loss: 0.0215 - val_accuracy: 0.9930\n",
      "Epoch 21/100\n",
      "1875/1875 [==============================] - 29s 15ms/step - loss: 0.0468 - accuracy: 0.9854 - val_loss: 0.0244 - val_accuracy: 0.9923\n",
      "Epoch 22/100\n",
      "1875/1875 [==============================] - 28s 15ms/step - loss: 0.0443 - accuracy: 0.9862 - val_loss: 0.0238 - val_accuracy: 0.9927\n",
      "Epoch 23/100\n",
      "1875/1875 [==============================] - 28s 15ms/step - loss: 0.0464 - accuracy: 0.9856 - val_loss: 0.0236 - val_accuracy: 0.9926\n",
      "Epoch 24/100\n",
      "1875/1875 [==============================] - 29s 15ms/step - loss: 0.0435 - accuracy: 0.9863 - val_loss: 0.0234 - val_accuracy: 0.9926\n",
      "Epoch 25/100\n",
      "1875/1875 [==============================] - 28s 15ms/step - loss: 0.0425 - accuracy: 0.9864 - val_loss: 0.0244 - val_accuracy: 0.9931\n",
      "Epoch 26/100\n",
      "1875/1875 [==============================] - 28s 15ms/step - loss: 0.0412 - accuracy: 0.9869 - val_loss: 0.0247 - val_accuracy: 0.9922\n",
      "Epoch 27/100\n",
      "1875/1875 [==============================] - 28s 15ms/step - loss: 0.0419 - accuracy: 0.9867 - val_loss: 0.0235 - val_accuracy: 0.9916\n",
      "Epoch 28/100\n",
      "1875/1875 [==============================] - 28s 15ms/step - loss: 0.0411 - accuracy: 0.9874 - val_loss: 0.0218 - val_accuracy: 0.9929\n",
      "Epoch 29/100\n",
      "1875/1875 [==============================] - 28s 15ms/step - loss: 0.0414 - accuracy: 0.9868 - val_loss: 0.0278 - val_accuracy: 0.9919\n",
      "Epoch 30/100\n",
      "1874/1875 [============================>.] - ETA: 0s - loss: 0.0404 - accuracy: 0.9873Restoring model weights from the end of the best epoch: 20.\n",
      "1875/1875 [==============================] - 28s 15ms/step - loss: 0.0405 - accuracy: 0.9873 - val_loss: 0.0238 - val_accuracy: 0.9930\n",
      "Epoch 30: early stopping\n"
     ]
    }
   ],
   "source": [
    "history = model.fit(X_train, y_train, batch_size=32, epochs=100, validation_data=(X_test, y_test), callbacks=[es])"
   ]
  },
  {
   "cell_type": "code",
   "execution_count": 14,
   "id": "2db001dd",
   "metadata": {},
   "outputs": [
    {
     "data": {
      "image/png": "[encoded data removed]",
      "text/plain": [
       "<Figure size 432x288 with 1 Axes>"
      ]
     },
     "metadata": {
      "needs_background": "light"
     },
     "output_type": "display_data"
    }
   ],
   "source": [
    "plt.plot(history.history['loss'],color='red',label='train')\n",
    "plt.plot(history.history['val_loss'],color='blue',label='validation')\n",
    "plt.legend()\n",
    "plt.show()"
   ]
  },
  {
   "cell_type": "code",
   "execution_count": 15,
   "id": "67d5f71e",
   "metadata": {},
   "outputs": [
    {
     "data": {
      "image/png": "[encoded data removed]",
      "text/plain": [
       "<Figure size 432x288 with 1 Axes>"
      ]
     },
     "metadata": {
      "needs_background": "light"
     },
     "output_type": "display_data"
    }
   ],
   "source": [
    "plt.plot(history.history['accuracy'],color='red',label='train')\n",
    "plt.plot(history.history['val_accuracy'],color='blue',label='validation')\n",
    "plt.legend()\n",
    "plt.show()"
   ]
  },
  {
   "cell_type": "code",
   "execution_count": 16,
   "id": "d6765a30",
   "metadata": {},
   "outputs": [
    {
     "name": "stdout",
     "output_type": "stream",
     "text": [
      "Saved model to disk\n"
     ]
    }
   ],
   "source": [
    "# serialize model to JSON\n",
    "model_json = model.to_json()\n",
    "with open(\"mnist_model.json\", \"w\") as json_file:\n",
    "    json_file.write(model_json)\n",
    "# serialize weights to HDF5\n",
    "model.save_weights(\"mnist_model.h5\")\n",
    "print(\"Saved model to disk\")"
   ]
  },
  {
   "cell_type": "code",
   "execution_count": 42,
   "id": "de24af21",
   "metadata": {},
   "outputs": [],
   "source": [
    "test_input = np.reshape(X_train[0], (28, 28, 1))"
   ]
  },
  {
   "cell_type": "code",
   "execution_count": 43,
   "id": "6ef33fe0",
   "metadata": {},
   "outputs": [
    {
     "data": {
      "text/plain": [
       "(28, 28, 1)"
      ]
     },
     "execution_count": 43,
     "metadata": {},
     "output_type": "execute_result"
    }
   ],
   "source": [
    "test_input.shape"
   ]
  },
  {
   "cell_type": "code",
   "execution_count": 31,
   "id": "4f18b850",
   "metadata": {},
   "outputs": [
    {
     "data": {
      "text/plain": [
       "<tf.Tensor: shape=(10,), dtype=float32, numpy=array([0., 0., 0., 0., 0., 1., 0., 0., 0., 0.], dtype=float32)>"
      ]
     },
     "execution_count": 31,
     "metadata": {},
     "output_type": "execute_result"
    }
   ],
   "source": [
    "y_train[0]"
   ]
  },
  {
   "cell_type": "code",
   "execution_count": 2,
   "id": "2ee5aa7e",
   "metadata": {},
   "outputs": [
    {
     "name": "stdout",
     "output_type": "stream",
     "text": [
      "Loaded model from disk\n"
     ]
    }
   ],
   "source": [
    "# load json and create model\n",
    "json_file = open('mnist_model.json', 'r')\n",
    "loaded_model_json = json_file.read()\n",
    "json_file.close()\n",
    "model = model_from_json(loaded_model_json)\n",
    "# load weights into new model\n",
    "model.load_weights(\"mnist_model.h5\")\n",
    "print(\"Loaded model from disk\")"
   ]
  },
  {
   "cell_type": "code",
   "execution_count": 13,
   "id": "1905e019",
   "metadata": {},
   "outputs": [
    {
     "data": {
      "text/plain": [
       "(28, 28)"
      ]
     },
     "execution_count": 13,
     "metadata": {},
     "output_type": "execute_result"
    }
   ],
   "source": [
    "X_train[0].shape"
   ]
  },
  {
   "cell_type": "code",
   "execution_count": 37,
   "id": "8a971c15",
   "metadata": {},
   "outputs": [],
   "source": [
    "# load and prepare the image\n",
    "def load_image(cnt):\n",
    "    # load the image\n",
    "    #img = load_img(filename, color_mode = \"grayscale\", target_size=(28, 28))\n",
    "    img = X_test[cnt]\n",
    "    ax[i][j].imshow(cv2.cvtColor(img, cv2.COLOR_BGR2RGB))\n",
    "    ax[i][j].axis(\"off\")\n",
    "    # convert to array\n",
    "    img = img_to_array(img)\n",
    "    # reshape into a single sample with 1 channel\n",
    "    img = img.reshape(1, 28, 28, 1)\n",
    "    # prepare pixel data\n",
    "    img = img.astype('float32')\n",
    "    predict_value = model.predict(img)\n",
    "    digit = argmax(predict_value)\n",
    "    return str(digit)"
   ]
  },
  {
   "cell_type": "code",
   "execution_count": 58,
   "id": "5273aa32",
   "metadata": {},
   "outputs": [
    {
     "name": "stdout",
     "output_type": "stream",
     "text": [
      "1/1 [==============================] - 0s 63ms/step\n",
      "1/1 [==============================] - 0s 66ms/step\n",
      "1/1 [==============================] - 0s 63ms/step\n",
      "1/1 [==============================] - 0s 74ms/step\n",
      "1/1 [==============================] - 0s 56ms/step\n",
      "1/1 [==============================] - 0s 60ms/step\n",
      "1/1 [==============================] - 0s 55ms/step\n",
      "1/1 [==============================] - 0s 53ms/step\n",
      "1/1 [==============================] - 0s 54ms/step\n"
     ]
    },
    {
     "data": {
      "image/png": "[encoded data removed]",
      "text/plain": [
       "<Figure size 648x648 with 9 Axes>"
      ]
     },
     "metadata": {
      "needs_background": "light"
     },
     "output_type": "display_data"
    }
   ],
   "source": [
    "cnt = 0\n",
    "fig, ax = plt.subplots(3, 3, figsize=(9,9))\n",
    "plt.subplots_adjust(hspace = 0.4)\n",
    "for i in range(3):\n",
    "    for j in range(3):\n",
    "        cnt = int(random.uniform(0, 10000))\n",
    "        img = X_test[cnt]\n",
    "        ax[i][j].imshow(cv2.cvtColor(img, cv2.COLOR_BGR2RGB))\n",
    "        ax[i][j].axis(\"off\")\n",
    "        ax[i][j].set_title(load_image(cnt), fontsize=16)\n",
    "plt.show()"
   ]
  },
  {
   "cell_type": "code",
   "execution_count": 62,
   "id": "b2bb1fa9",
   "metadata": {},
   "outputs": [
    {
     "name": "stdout",
     "output_type": "stream",
     "text": [
      "Collecting netron\n",
      "  Downloading netron-6.3.9-py3-none-any.whl (1.5 MB)\n",
      "     ---------------------------------------- 1.5/1.5 MB 1.2 MB/s eta 0:00:00\n",
      "Installing collected packages: netron\n",
      "Successfully installed netron-6.3.9\n"
     ]
    }
   ],
   "source": [
    "!pip install netron"
   ]
  },
  {
   "cell_type": "code",
   "execution_count": 64,
   "id": "a71c7432",
   "metadata": {},
   "outputs": [
    {
     "name": "stdout",
     "output_type": "stream",
     "text": [
      "Serving 'mnist_model.h5' at http://localhost:8080\n"
     ]
    },
    {
     "data": {
      "text/plain": [
       "('localhost', 8080)"
      ]
     },
     "execution_count": 64,
     "metadata": {},
     "output_type": "execute_result"
    }
   ],
   "source": [
    "netron.start('mnist_model.h5')"
   ]
  }
 ],
 "metadata": {
  "kernelspec": {
   "display_name": "gpu2",
   "language": "python",
   "name": "gpu2"
  },
  "language_info": {
   "codemirror_mode": {
    "name": "ipython",
    "version": 3
   },
   "file_extension": ".py",
   "mimetype": "text/x-python",
   "name": "python",
   "nbconvert_exporter": "python",
   "pygments_lexer": "ipython3",
   "version": "3.9.12"
  }
 },
 "nbformat": 4,
 "nbformat_minor": 5
}
